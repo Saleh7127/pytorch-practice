{
  "nbformat": 4,
  "nbformat_minor": 0,
  "metadata": {
    "colab": {
      "provenance": [],
      "authorship_tag": "ABX9TyPvXGmYea4U3JEnyORXD5pn",
      "include_colab_link": true
    },
    "kernelspec": {
      "name": "python3",
      "display_name": "Python 3"
    },
    "language_info": {
      "name": "python"
    }
  },
  "cells": [
    {
      "cell_type": "markdown",
      "metadata": {
        "id": "view-in-github",
        "colab_type": "text"
      },
      "source": [
        "<a href=\"https://colab.research.google.com/github/Saleh7127/pytorch-practice/blob/main/NN_scrach_backpropagation.ipynb\" target=\"_parent\"><img src=\"https://colab.research.google.com/assets/colab-badge.svg\" alt=\"Open In Colab\"/></a>"
      ]
    },
    {
      "cell_type": "code",
      "source": [
        "import pandas as pd\n",
        "import numpy as np"
      ],
      "metadata": {
        "id": "i9KHs-B35Bfe"
      },
      "execution_count": 3,
      "outputs": []
    },
    {
      "cell_type": "code",
      "source": [
        "df = pd.read_csv('https://raw.githubusercontent.com/VikParuchuri/zero_to_gpt/refs/heads/master/data/clean_weather.csv', index_col=0)"
      ],
      "metadata": {
        "id": "cjic26sQO7hm"
      },
      "execution_count": 4,
      "outputs": []
    },
    {
      "cell_type": "code",
      "source": [
        "df.head()"
      ],
      "metadata": {
        "colab": {
          "base_uri": "https://localhost:8080/",
          "height": 206
        },
        "id": "jzbg-Lw8O-k5",
        "outputId": "bf68d2c0-47c7-4c8e-c347-bf5aaba78e0f"
      },
      "execution_count": 5,
      "outputs": [
        {
          "output_type": "execute_result",
          "data": {
            "text/plain": [
              "            tmax  tmin  rain  tmax_tomorrow\n",
              "1970-01-01  60.0  35.0   0.0           52.0\n",
              "1970-01-02  52.0  39.0   0.0           52.0\n",
              "1970-01-03  52.0  35.0   0.0           53.0\n",
              "1970-01-04  53.0  36.0   0.0           52.0\n",
              "1970-01-05  52.0  35.0   0.0           50.0"
            ],
            "text/html": [
              "\n",
              "  <div id=\"df-c4599773-223d-4269-8480-b281c27a42c6\" class=\"colab-df-container\">\n",
              "    <div>\n",
              "<style scoped>\n",
              "    .dataframe tbody tr th:only-of-type {\n",
              "        vertical-align: middle;\n",
              "    }\n",
              "\n",
              "    .dataframe tbody tr th {\n",
              "        vertical-align: top;\n",
              "    }\n",
              "\n",
              "    .dataframe thead th {\n",
              "        text-align: right;\n",
              "    }\n",
              "</style>\n",
              "<table border=\"1\" class=\"dataframe\">\n",
              "  <thead>\n",
              "    <tr style=\"text-align: right;\">\n",
              "      <th></th>\n",
              "      <th>tmax</th>\n",
              "      <th>tmin</th>\n",
              "      <th>rain</th>\n",
              "      <th>tmax_tomorrow</th>\n",
              "    </tr>\n",
              "  </thead>\n",
              "  <tbody>\n",
              "    <tr>\n",
              "      <th>1970-01-01</th>\n",
              "      <td>60.0</td>\n",
              "      <td>35.0</td>\n",
              "      <td>0.0</td>\n",
              "      <td>52.0</td>\n",
              "    </tr>\n",
              "    <tr>\n",
              "      <th>1970-01-02</th>\n",
              "      <td>52.0</td>\n",
              "      <td>39.0</td>\n",
              "      <td>0.0</td>\n",
              "      <td>52.0</td>\n",
              "    </tr>\n",
              "    <tr>\n",
              "      <th>1970-01-03</th>\n",
              "      <td>52.0</td>\n",
              "      <td>35.0</td>\n",
              "      <td>0.0</td>\n",
              "      <td>53.0</td>\n",
              "    </tr>\n",
              "    <tr>\n",
              "      <th>1970-01-04</th>\n",
              "      <td>53.0</td>\n",
              "      <td>36.0</td>\n",
              "      <td>0.0</td>\n",
              "      <td>52.0</td>\n",
              "    </tr>\n",
              "    <tr>\n",
              "      <th>1970-01-05</th>\n",
              "      <td>52.0</td>\n",
              "      <td>35.0</td>\n",
              "      <td>0.0</td>\n",
              "      <td>50.0</td>\n",
              "    </tr>\n",
              "  </tbody>\n",
              "</table>\n",
              "</div>\n",
              "    <div class=\"colab-df-buttons\">\n",
              "\n",
              "  <div class=\"colab-df-container\">\n",
              "    <button class=\"colab-df-convert\" onclick=\"convertToInteractive('df-c4599773-223d-4269-8480-b281c27a42c6')\"\n",
              "            title=\"Convert this dataframe to an interactive table.\"\n",
              "            style=\"display:none;\">\n",
              "\n",
              "  <svg xmlns=\"http://www.w3.org/2000/svg\" height=\"24px\" viewBox=\"0 -960 960 960\">\n",
              "    <path d=\"M120-120v-720h720v720H120Zm60-500h600v-160H180v160Zm220 220h160v-160H400v160Zm0 220h160v-160H400v160ZM180-400h160v-160H180v160Zm440 0h160v-160H620v160ZM180-180h160v-160H180v160Zm440 0h160v-160H620v160Z\"/>\n",
              "  </svg>\n",
              "    </button>\n",
              "\n",
              "  <style>\n",
              "    .colab-df-container {\n",
              "      display:flex;\n",
              "      gap: 12px;\n",
              "    }\n",
              "\n",
              "    .colab-df-convert {\n",
              "      background-color: #E8F0FE;\n",
              "      border: none;\n",
              "      border-radius: 50%;\n",
              "      cursor: pointer;\n",
              "      display: none;\n",
              "      fill: #1967D2;\n",
              "      height: 32px;\n",
              "      padding: 0 0 0 0;\n",
              "      width: 32px;\n",
              "    }\n",
              "\n",
              "    .colab-df-convert:hover {\n",
              "      background-color: #E2EBFA;\n",
              "      box-shadow: 0px 1px 2px rgba(60, 64, 67, 0.3), 0px 1px 3px 1px rgba(60, 64, 67, 0.15);\n",
              "      fill: #174EA6;\n",
              "    }\n",
              "\n",
              "    .colab-df-buttons div {\n",
              "      margin-bottom: 4px;\n",
              "    }\n",
              "\n",
              "    [theme=dark] .colab-df-convert {\n",
              "      background-color: #3B4455;\n",
              "      fill: #D2E3FC;\n",
              "    }\n",
              "\n",
              "    [theme=dark] .colab-df-convert:hover {\n",
              "      background-color: #434B5C;\n",
              "      box-shadow: 0px 1px 3px 1px rgba(0, 0, 0, 0.15);\n",
              "      filter: drop-shadow(0px 1px 2px rgba(0, 0, 0, 0.3));\n",
              "      fill: #FFFFFF;\n",
              "    }\n",
              "  </style>\n",
              "\n",
              "    <script>\n",
              "      const buttonEl =\n",
              "        document.querySelector('#df-c4599773-223d-4269-8480-b281c27a42c6 button.colab-df-convert');\n",
              "      buttonEl.style.display =\n",
              "        google.colab.kernel.accessAllowed ? 'block' : 'none';\n",
              "\n",
              "      async function convertToInteractive(key) {\n",
              "        const element = document.querySelector('#df-c4599773-223d-4269-8480-b281c27a42c6');\n",
              "        const dataTable =\n",
              "          await google.colab.kernel.invokeFunction('convertToInteractive',\n",
              "                                                    [key], {});\n",
              "        if (!dataTable) return;\n",
              "\n",
              "        const docLinkHtml = 'Like what you see? Visit the ' +\n",
              "          '<a target=\"_blank\" href=https://colab.research.google.com/notebooks/data_table.ipynb>data table notebook</a>'\n",
              "          + ' to learn more about interactive tables.';\n",
              "        element.innerHTML = '';\n",
              "        dataTable['output_type'] = 'display_data';\n",
              "        await google.colab.output.renderOutput(dataTable, element);\n",
              "        const docLink = document.createElement('div');\n",
              "        docLink.innerHTML = docLinkHtml;\n",
              "        element.appendChild(docLink);\n",
              "      }\n",
              "    </script>\n",
              "  </div>\n",
              "\n",
              "\n",
              "    <div id=\"df-9d454ad3-e581-4249-af2c-67d03c7ea8cc\">\n",
              "      <button class=\"colab-df-quickchart\" onclick=\"quickchart('df-9d454ad3-e581-4249-af2c-67d03c7ea8cc')\"\n",
              "                title=\"Suggest charts\"\n",
              "                style=\"display:none;\">\n",
              "\n",
              "<svg xmlns=\"http://www.w3.org/2000/svg\" height=\"24px\"viewBox=\"0 0 24 24\"\n",
              "     width=\"24px\">\n",
              "    <g>\n",
              "        <path d=\"M19 3H5c-1.1 0-2 .9-2 2v14c0 1.1.9 2 2 2h14c1.1 0 2-.9 2-2V5c0-1.1-.9-2-2-2zM9 17H7v-7h2v7zm4 0h-2V7h2v10zm4 0h-2v-4h2v4z\"/>\n",
              "    </g>\n",
              "</svg>\n",
              "      </button>\n",
              "\n",
              "<style>\n",
              "  .colab-df-quickchart {\n",
              "      --bg-color: #E8F0FE;\n",
              "      --fill-color: #1967D2;\n",
              "      --hover-bg-color: #E2EBFA;\n",
              "      --hover-fill-color: #174EA6;\n",
              "      --disabled-fill-color: #AAA;\n",
              "      --disabled-bg-color: #DDD;\n",
              "  }\n",
              "\n",
              "  [theme=dark] .colab-df-quickchart {\n",
              "      --bg-color: #3B4455;\n",
              "      --fill-color: #D2E3FC;\n",
              "      --hover-bg-color: #434B5C;\n",
              "      --hover-fill-color: #FFFFFF;\n",
              "      --disabled-bg-color: #3B4455;\n",
              "      --disabled-fill-color: #666;\n",
              "  }\n",
              "\n",
              "  .colab-df-quickchart {\n",
              "    background-color: var(--bg-color);\n",
              "    border: none;\n",
              "    border-radius: 50%;\n",
              "    cursor: pointer;\n",
              "    display: none;\n",
              "    fill: var(--fill-color);\n",
              "    height: 32px;\n",
              "    padding: 0;\n",
              "    width: 32px;\n",
              "  }\n",
              "\n",
              "  .colab-df-quickchart:hover {\n",
              "    background-color: var(--hover-bg-color);\n",
              "    box-shadow: 0 1px 2px rgba(60, 64, 67, 0.3), 0 1px 3px 1px rgba(60, 64, 67, 0.15);\n",
              "    fill: var(--button-hover-fill-color);\n",
              "  }\n",
              "\n",
              "  .colab-df-quickchart-complete:disabled,\n",
              "  .colab-df-quickchart-complete:disabled:hover {\n",
              "    background-color: var(--disabled-bg-color);\n",
              "    fill: var(--disabled-fill-color);\n",
              "    box-shadow: none;\n",
              "  }\n",
              "\n",
              "  .colab-df-spinner {\n",
              "    border: 2px solid var(--fill-color);\n",
              "    border-color: transparent;\n",
              "    border-bottom-color: var(--fill-color);\n",
              "    animation:\n",
              "      spin 1s steps(1) infinite;\n",
              "  }\n",
              "\n",
              "  @keyframes spin {\n",
              "    0% {\n",
              "      border-color: transparent;\n",
              "      border-bottom-color: var(--fill-color);\n",
              "      border-left-color: var(--fill-color);\n",
              "    }\n",
              "    20% {\n",
              "      border-color: transparent;\n",
              "      border-left-color: var(--fill-color);\n",
              "      border-top-color: var(--fill-color);\n",
              "    }\n",
              "    30% {\n",
              "      border-color: transparent;\n",
              "      border-left-color: var(--fill-color);\n",
              "      border-top-color: var(--fill-color);\n",
              "      border-right-color: var(--fill-color);\n",
              "    }\n",
              "    40% {\n",
              "      border-color: transparent;\n",
              "      border-right-color: var(--fill-color);\n",
              "      border-top-color: var(--fill-color);\n",
              "    }\n",
              "    60% {\n",
              "      border-color: transparent;\n",
              "      border-right-color: var(--fill-color);\n",
              "    }\n",
              "    80% {\n",
              "      border-color: transparent;\n",
              "      border-right-color: var(--fill-color);\n",
              "      border-bottom-color: var(--fill-color);\n",
              "    }\n",
              "    90% {\n",
              "      border-color: transparent;\n",
              "      border-bottom-color: var(--fill-color);\n",
              "    }\n",
              "  }\n",
              "</style>\n",
              "\n",
              "      <script>\n",
              "        async function quickchart(key) {\n",
              "          const quickchartButtonEl =\n",
              "            document.querySelector('#' + key + ' button');\n",
              "          quickchartButtonEl.disabled = true;  // To prevent multiple clicks.\n",
              "          quickchartButtonEl.classList.add('colab-df-spinner');\n",
              "          try {\n",
              "            const charts = await google.colab.kernel.invokeFunction(\n",
              "                'suggestCharts', [key], {});\n",
              "          } catch (error) {\n",
              "            console.error('Error during call to suggestCharts:', error);\n",
              "          }\n",
              "          quickchartButtonEl.classList.remove('colab-df-spinner');\n",
              "          quickchartButtonEl.classList.add('colab-df-quickchart-complete');\n",
              "        }\n",
              "        (() => {\n",
              "          let quickchartButtonEl =\n",
              "            document.querySelector('#df-9d454ad3-e581-4249-af2c-67d03c7ea8cc button');\n",
              "          quickchartButtonEl.style.display =\n",
              "            google.colab.kernel.accessAllowed ? 'block' : 'none';\n",
              "        })();\n",
              "      </script>\n",
              "    </div>\n",
              "\n",
              "    </div>\n",
              "  </div>\n"
            ],
            "application/vnd.google.colaboratory.intrinsic+json": {
              "type": "dataframe",
              "variable_name": "df",
              "summary": "{\n  \"name\": \"df\",\n  \"rows\": 13509,\n  \"fields\": [\n    {\n      \"column\": \"tmax\",\n      \"properties\": {\n        \"dtype\": \"number\",\n        \"std\": 8.321769458469971,\n        \"min\": 38.0,\n        \"max\": 122.0,\n        \"num_unique_values\": 66,\n        \"samples\": [\n          43.0,\n          122.0,\n          60.0\n        ],\n        \"semantic_type\": \"\",\n        \"description\": \"\"\n      }\n    },\n    {\n      \"column\": \"tmin\",\n      \"properties\": {\n        \"dtype\": \"number\",\n        \"std\": 6.78579770467797,\n        \"min\": 1.0,\n        \"max\": 69.0,\n        \"num_unique_values\": 48,\n        \"samples\": [\n          37.0,\n          68.0,\n          40.0\n        ],\n        \"semantic_type\": \"\",\n        \"description\": \"\"\n      }\n    },\n    {\n      \"column\": \"rain\",\n      \"properties\": {\n        \"dtype\": \"number\",\n        \"std\": 0.18153310034630646,\n        \"min\": 0.0,\n        \"max\": 3.58,\n        \"num_unique_values\": 161,\n        \"samples\": [\n          1.29,\n          0.61,\n          1.52\n        ],\n        \"semantic_type\": \"\",\n        \"description\": \"\"\n      }\n    },\n    {\n      \"column\": \"tmax_tomorrow\",\n      \"properties\": {\n        \"dtype\": \"number\",\n        \"std\": 8.321625140373289,\n        \"min\": 38.0,\n        \"max\": 122.0,\n        \"num_unique_values\": 66,\n        \"samples\": [\n          43.0,\n          122.0,\n          52.0\n        ],\n        \"semantic_type\": \"\",\n        \"description\": \"\"\n      }\n    }\n  ]\n}"
            }
          },
          "metadata": {},
          "execution_count": 5
        }
      ]
    },
    {
      "cell_type": "code",
      "source": [
        "df = df.ffill()"
      ],
      "metadata": {
        "id": "cYNOnuw7PGwV"
      },
      "execution_count": 6,
      "outputs": []
    },
    {
      "cell_type": "code",
      "source": [
        "df.corr()"
      ],
      "metadata": {
        "colab": {
          "base_uri": "https://localhost:8080/",
          "height": 175
        },
        "id": "R_6RkRG-PUjf",
        "outputId": "47a4ca38-155e-4132-8ea6-7b80873eaf37"
      },
      "execution_count": 7,
      "outputs": [
        {
          "output_type": "execute_result",
          "data": {
            "text/plain": [
              "                   tmax      tmin      rain  tmax_tomorrow\n",
              "tmax           1.000000  0.615604 -0.219941       0.818561\n",
              "tmin           0.615604  1.000000 -0.019546       0.585572\n",
              "rain          -0.219941 -0.019546  1.000000      -0.211799\n",
              "tmax_tomorrow  0.818561  0.585572 -0.211799       1.000000"
            ],
            "text/html": [
              "\n",
              "  <div id=\"df-321acdf6-44d4-4f77-863e-f22afd3ef20f\" class=\"colab-df-container\">\n",
              "    <div>\n",
              "<style scoped>\n",
              "    .dataframe tbody tr th:only-of-type {\n",
              "        vertical-align: middle;\n",
              "    }\n",
              "\n",
              "    .dataframe tbody tr th {\n",
              "        vertical-align: top;\n",
              "    }\n",
              "\n",
              "    .dataframe thead th {\n",
              "        text-align: right;\n",
              "    }\n",
              "</style>\n",
              "<table border=\"1\" class=\"dataframe\">\n",
              "  <thead>\n",
              "    <tr style=\"text-align: right;\">\n",
              "      <th></th>\n",
              "      <th>tmax</th>\n",
              "      <th>tmin</th>\n",
              "      <th>rain</th>\n",
              "      <th>tmax_tomorrow</th>\n",
              "    </tr>\n",
              "  </thead>\n",
              "  <tbody>\n",
              "    <tr>\n",
              "      <th>tmax</th>\n",
              "      <td>1.000000</td>\n",
              "      <td>0.615604</td>\n",
              "      <td>-0.219941</td>\n",
              "      <td>0.818561</td>\n",
              "    </tr>\n",
              "    <tr>\n",
              "      <th>tmin</th>\n",
              "      <td>0.615604</td>\n",
              "      <td>1.000000</td>\n",
              "      <td>-0.019546</td>\n",
              "      <td>0.585572</td>\n",
              "    </tr>\n",
              "    <tr>\n",
              "      <th>rain</th>\n",
              "      <td>-0.219941</td>\n",
              "      <td>-0.019546</td>\n",
              "      <td>1.000000</td>\n",
              "      <td>-0.211799</td>\n",
              "    </tr>\n",
              "    <tr>\n",
              "      <th>tmax_tomorrow</th>\n",
              "      <td>0.818561</td>\n",
              "      <td>0.585572</td>\n",
              "      <td>-0.211799</td>\n",
              "      <td>1.000000</td>\n",
              "    </tr>\n",
              "  </tbody>\n",
              "</table>\n",
              "</div>\n",
              "    <div class=\"colab-df-buttons\">\n",
              "\n",
              "  <div class=\"colab-df-container\">\n",
              "    <button class=\"colab-df-convert\" onclick=\"convertToInteractive('df-321acdf6-44d4-4f77-863e-f22afd3ef20f')\"\n",
              "            title=\"Convert this dataframe to an interactive table.\"\n",
              "            style=\"display:none;\">\n",
              "\n",
              "  <svg xmlns=\"http://www.w3.org/2000/svg\" height=\"24px\" viewBox=\"0 -960 960 960\">\n",
              "    <path d=\"M120-120v-720h720v720H120Zm60-500h600v-160H180v160Zm220 220h160v-160H400v160Zm0 220h160v-160H400v160ZM180-400h160v-160H180v160Zm440 0h160v-160H620v160ZM180-180h160v-160H180v160Zm440 0h160v-160H620v160Z\"/>\n",
              "  </svg>\n",
              "    </button>\n",
              "\n",
              "  <style>\n",
              "    .colab-df-container {\n",
              "      display:flex;\n",
              "      gap: 12px;\n",
              "    }\n",
              "\n",
              "    .colab-df-convert {\n",
              "      background-color: #E8F0FE;\n",
              "      border: none;\n",
              "      border-radius: 50%;\n",
              "      cursor: pointer;\n",
              "      display: none;\n",
              "      fill: #1967D2;\n",
              "      height: 32px;\n",
              "      padding: 0 0 0 0;\n",
              "      width: 32px;\n",
              "    }\n",
              "\n",
              "    .colab-df-convert:hover {\n",
              "      background-color: #E2EBFA;\n",
              "      box-shadow: 0px 1px 2px rgba(60, 64, 67, 0.3), 0px 1px 3px 1px rgba(60, 64, 67, 0.15);\n",
              "      fill: #174EA6;\n",
              "    }\n",
              "\n",
              "    .colab-df-buttons div {\n",
              "      margin-bottom: 4px;\n",
              "    }\n",
              "\n",
              "    [theme=dark] .colab-df-convert {\n",
              "      background-color: #3B4455;\n",
              "      fill: #D2E3FC;\n",
              "    }\n",
              "\n",
              "    [theme=dark] .colab-df-convert:hover {\n",
              "      background-color: #434B5C;\n",
              "      box-shadow: 0px 1px 3px 1px rgba(0, 0, 0, 0.15);\n",
              "      filter: drop-shadow(0px 1px 2px rgba(0, 0, 0, 0.3));\n",
              "      fill: #FFFFFF;\n",
              "    }\n",
              "  </style>\n",
              "\n",
              "    <script>\n",
              "      const buttonEl =\n",
              "        document.querySelector('#df-321acdf6-44d4-4f77-863e-f22afd3ef20f button.colab-df-convert');\n",
              "      buttonEl.style.display =\n",
              "        google.colab.kernel.accessAllowed ? 'block' : 'none';\n",
              "\n",
              "      async function convertToInteractive(key) {\n",
              "        const element = document.querySelector('#df-321acdf6-44d4-4f77-863e-f22afd3ef20f');\n",
              "        const dataTable =\n",
              "          await google.colab.kernel.invokeFunction('convertToInteractive',\n",
              "                                                    [key], {});\n",
              "        if (!dataTable) return;\n",
              "\n",
              "        const docLinkHtml = 'Like what you see? Visit the ' +\n",
              "          '<a target=\"_blank\" href=https://colab.research.google.com/notebooks/data_table.ipynb>data table notebook</a>'\n",
              "          + ' to learn more about interactive tables.';\n",
              "        element.innerHTML = '';\n",
              "        dataTable['output_type'] = 'display_data';\n",
              "        await google.colab.output.renderOutput(dataTable, element);\n",
              "        const docLink = document.createElement('div');\n",
              "        docLink.innerHTML = docLinkHtml;\n",
              "        element.appendChild(docLink);\n",
              "      }\n",
              "    </script>\n",
              "  </div>\n",
              "\n",
              "\n",
              "    <div id=\"df-66a69b9b-cd56-4d69-9a9b-19cbf249bc21\">\n",
              "      <button class=\"colab-df-quickchart\" onclick=\"quickchart('df-66a69b9b-cd56-4d69-9a9b-19cbf249bc21')\"\n",
              "                title=\"Suggest charts\"\n",
              "                style=\"display:none;\">\n",
              "\n",
              "<svg xmlns=\"http://www.w3.org/2000/svg\" height=\"24px\"viewBox=\"0 0 24 24\"\n",
              "     width=\"24px\">\n",
              "    <g>\n",
              "        <path d=\"M19 3H5c-1.1 0-2 .9-2 2v14c0 1.1.9 2 2 2h14c1.1 0 2-.9 2-2V5c0-1.1-.9-2-2-2zM9 17H7v-7h2v7zm4 0h-2V7h2v10zm4 0h-2v-4h2v4z\"/>\n",
              "    </g>\n",
              "</svg>\n",
              "      </button>\n",
              "\n",
              "<style>\n",
              "  .colab-df-quickchart {\n",
              "      --bg-color: #E8F0FE;\n",
              "      --fill-color: #1967D2;\n",
              "      --hover-bg-color: #E2EBFA;\n",
              "      --hover-fill-color: #174EA6;\n",
              "      --disabled-fill-color: #AAA;\n",
              "      --disabled-bg-color: #DDD;\n",
              "  }\n",
              "\n",
              "  [theme=dark] .colab-df-quickchart {\n",
              "      --bg-color: #3B4455;\n",
              "      --fill-color: #D2E3FC;\n",
              "      --hover-bg-color: #434B5C;\n",
              "      --hover-fill-color: #FFFFFF;\n",
              "      --disabled-bg-color: #3B4455;\n",
              "      --disabled-fill-color: #666;\n",
              "  }\n",
              "\n",
              "  .colab-df-quickchart {\n",
              "    background-color: var(--bg-color);\n",
              "    border: none;\n",
              "    border-radius: 50%;\n",
              "    cursor: pointer;\n",
              "    display: none;\n",
              "    fill: var(--fill-color);\n",
              "    height: 32px;\n",
              "    padding: 0;\n",
              "    width: 32px;\n",
              "  }\n",
              "\n",
              "  .colab-df-quickchart:hover {\n",
              "    background-color: var(--hover-bg-color);\n",
              "    box-shadow: 0 1px 2px rgba(60, 64, 67, 0.3), 0 1px 3px 1px rgba(60, 64, 67, 0.15);\n",
              "    fill: var(--button-hover-fill-color);\n",
              "  }\n",
              "\n",
              "  .colab-df-quickchart-complete:disabled,\n",
              "  .colab-df-quickchart-complete:disabled:hover {\n",
              "    background-color: var(--disabled-bg-color);\n",
              "    fill: var(--disabled-fill-color);\n",
              "    box-shadow: none;\n",
              "  }\n",
              "\n",
              "  .colab-df-spinner {\n",
              "    border: 2px solid var(--fill-color);\n",
              "    border-color: transparent;\n",
              "    border-bottom-color: var(--fill-color);\n",
              "    animation:\n",
              "      spin 1s steps(1) infinite;\n",
              "  }\n",
              "\n",
              "  @keyframes spin {\n",
              "    0% {\n",
              "      border-color: transparent;\n",
              "      border-bottom-color: var(--fill-color);\n",
              "      border-left-color: var(--fill-color);\n",
              "    }\n",
              "    20% {\n",
              "      border-color: transparent;\n",
              "      border-left-color: var(--fill-color);\n",
              "      border-top-color: var(--fill-color);\n",
              "    }\n",
              "    30% {\n",
              "      border-color: transparent;\n",
              "      border-left-color: var(--fill-color);\n",
              "      border-top-color: var(--fill-color);\n",
              "      border-right-color: var(--fill-color);\n",
              "    }\n",
              "    40% {\n",
              "      border-color: transparent;\n",
              "      border-right-color: var(--fill-color);\n",
              "      border-top-color: var(--fill-color);\n",
              "    }\n",
              "    60% {\n",
              "      border-color: transparent;\n",
              "      border-right-color: var(--fill-color);\n",
              "    }\n",
              "    80% {\n",
              "      border-color: transparent;\n",
              "      border-right-color: var(--fill-color);\n",
              "      border-bottom-color: var(--fill-color);\n",
              "    }\n",
              "    90% {\n",
              "      border-color: transparent;\n",
              "      border-bottom-color: var(--fill-color);\n",
              "    }\n",
              "  }\n",
              "</style>\n",
              "\n",
              "      <script>\n",
              "        async function quickchart(key) {\n",
              "          const quickchartButtonEl =\n",
              "            document.querySelector('#' + key + ' button');\n",
              "          quickchartButtonEl.disabled = true;  // To prevent multiple clicks.\n",
              "          quickchartButtonEl.classList.add('colab-df-spinner');\n",
              "          try {\n",
              "            const charts = await google.colab.kernel.invokeFunction(\n",
              "                'suggestCharts', [key], {});\n",
              "          } catch (error) {\n",
              "            console.error('Error during call to suggestCharts:', error);\n",
              "          }\n",
              "          quickchartButtonEl.classList.remove('colab-df-spinner');\n",
              "          quickchartButtonEl.classList.add('colab-df-quickchart-complete');\n",
              "        }\n",
              "        (() => {\n",
              "          let quickchartButtonEl =\n",
              "            document.querySelector('#df-66a69b9b-cd56-4d69-9a9b-19cbf249bc21 button');\n",
              "          quickchartButtonEl.style.display =\n",
              "            google.colab.kernel.accessAllowed ? 'block' : 'none';\n",
              "        })();\n",
              "      </script>\n",
              "    </div>\n",
              "\n",
              "    </div>\n",
              "  </div>\n"
            ],
            "application/vnd.google.colaboratory.intrinsic+json": {
              "type": "dataframe",
              "summary": "{\n  \"name\": \"df\",\n  \"rows\": 4,\n  \"fields\": [\n    {\n      \"column\": \"tmax\",\n      \"properties\": {\n        \"dtype\": \"number\",\n        \"std\": 0.5390384134963232,\n        \"min\": -0.21994085051457024,\n        \"max\": 1.0,\n        \"num_unique_values\": 4,\n        \"samples\": [\n          0.6156040224863463,\n          0.8185610069102122,\n          1.0\n        ],\n        \"semantic_type\": \"\",\n        \"description\": \"\"\n      }\n    },\n    {\n      \"column\": \"tmin\",\n      \"properties\": {\n        \"dtype\": \"number\",\n        \"std\": 0.42125508089609565,\n        \"min\": -0.019546003379352268,\n        \"max\": 1.0,\n        \"num_unique_values\": 4,\n        \"samples\": [\n          1.0,\n          0.585571859030141,\n          0.6156040224863463\n        ],\n        \"semantic_type\": \"\",\n        \"description\": \"\"\n      }\n    },\n    {\n      \"column\": \"rain\",\n      \"properties\": {\n        \"dtype\": \"number\",\n        \"std\": 0.582621382171492,\n        \"min\": -0.21994085051457024,\n        \"max\": 1.0,\n        \"num_unique_values\": 4,\n        \"samples\": [\n          -0.019546003379352268,\n          -0.2117989828789997,\n          -0.21994085051457024\n        ],\n        \"semantic_type\": \"\",\n        \"description\": \"\"\n      }\n    },\n    {\n      \"column\": \"tmax_tomorrow\",\n      \"properties\": {\n        \"dtype\": \"number\",\n        \"std\": 0.5342325865406491,\n        \"min\": -0.2117989828789997,\n        \"max\": 1.0,\n        \"num_unique_values\": 4,\n        \"samples\": [\n          0.585571859030141,\n          1.0,\n          0.8185610069102122\n        ],\n        \"semantic_type\": \"\",\n        \"description\": \"\"\n      }\n    }\n  ]\n}"
            }
          },
          "metadata": {},
          "execution_count": 7
        }
      ]
    },
    {
      "cell_type": "code",
      "source": [
        "import matplotlib.pyplot as plt\n",
        "\n",
        "df.plot.scatter('tmax','tmax_tomorrow')\n",
        "\n",
        "pred = lambda x, w1=.82, b=11.99: x * w1 + b\n",
        "\n",
        "plt.plot([30,120], [pred(30), pred(120)], 'red')"
      ],
      "metadata": {
        "colab": {
          "base_uri": "https://localhost:8080/",
          "height": 467
        },
        "id": "IR0aidLaPWV2",
        "outputId": "fe5eb65a-b93e-410b-9435-e985f355ebc8"
      },
      "execution_count": 8,
      "outputs": [
        {
          "output_type": "execute_result",
          "data": {
            "text/plain": [
              "[<matplotlib.lines.Line2D at 0x7ab2fbdc5a50>]"
            ]
          },
          "metadata": {},
          "execution_count": 8
        },
        {
          "output_type": "display_data",
          "data": {
            "text/plain": [
              "<Figure size 640x480 with 1 Axes>"
            ],
            "image/png": "[encoded data removed]"
          },
          "metadata": {}
        }
      ]
    },
    {
      "cell_type": "code",
      "source": [
        "def mse(actual, pred):\n",
        "  return np.mean((actual-pred)**2)\n",
        "\n",
        "\n",
        "print(mse(df['tmax_tomorrow'], pred(df['tmax'])))\n",
        "print(mse(df['tmax_tomorrow'], pred(df['tmax'], .83, 11.1)))"
      ],
      "metadata": {
        "colab": {
          "base_uri": "https://localhost:8080/"
        },
        "id": "MhGvlvLhQbOE",
        "outputId": "04914bc1-240f-43fc-aaac-9d1f0d41d666"
      },
      "execution_count": 9,
      "outputs": [
        {
          "output_type": "stream",
          "name": "stdout",
          "text": [
            "22.897335324598416\n",
            "22.913301169590643\n"
          ]
        }
      ]
    },
    {
      "cell_type": "code",
      "source": [
        "temps = np.arange(-50,50)\n",
        "plt.plot(temps, np.maximum(0, pred(temps)))"
      ],
      "metadata": {
        "colab": {
          "base_uri": "https://localhost:8080/",
          "height": 448
        },
        "id": "8E8fLF-OR23y",
        "outputId": "835baf14-d194-4ea0-9540-4d186ddc68da"
      },
      "execution_count": 10,
      "outputs": [
        {
          "output_type": "execute_result",
          "data": {
            "text/plain": [
              "[<matplotlib.lines.Line2D at 0x7ab2fa01a990>]"
            ]
          },
          "metadata": {},
          "execution_count": 10
        },
        {
          "output_type": "display_data",
          "data": {
            "text/plain": [
              "<Figure size 640x480 with 1 Axes>"
            ],
            "image/png": "[encoded data removed]"
          },
          "metadata": {}
        }
      ]
    },
    {
      "cell_type": "markdown",
      "source": [
        "$\\hat{y} = w_{2} relu({w_{1}x + b_{1}}) + b_{2}$"
      ],
      "metadata": {
        "id": "rvlaxf_xS6ml"
      }
    },
    {
      "cell_type": "code",
      "source": [
        "temps = np.arange(-50,50)\n",
        "\n",
        "layer1 = np.maximum(0, pred(temps))\n",
        "layer2 = pred(layer1, .5, 10)\n",
        "\n",
        "\n",
        "plt.plot(temps, layer2)\n",
        "plt.ylim(0,40)"
      ],
      "metadata": {
        "colab": {
          "base_uri": "https://localhost:8080/",
          "height": 453
        },
        "id": "W5b_nlOpS9FI",
        "outputId": "4013d3d7-74bd-4d62-ab56-8670958e24fb"
      },
      "execution_count": 11,
      "outputs": [
        {
          "output_type": "execute_result",
          "data": {
            "text/plain": [
              "(0.0, 40.0)"
            ]
          },
          "metadata": {},
          "execution_count": 11
        },
        {
          "output_type": "display_data",
          "data": {
            "text/plain": [
              "<Figure size 640x480 with 1 Axes>"
            ],
            "image/png": "[encoded data removed]"
          },
          "metadata": {}
        }
      ]
    },
    {
      "cell_type": "code",
      "source": [
        "layer1_1 = np.maximum(0, pred(temps))\n",
        "layer1_2 = np.maximum(0, pred(temps, .1, 10))\n",
        "layer1_3 = np.maximum(0, pred(temps, 2, -50))\n",
        "\n",
        "plt.plot(temps, layer1_1)\n",
        "plt.plot(temps, layer1_2)\n",
        "plt.plot(temps, layer1_3)"
      ],
      "metadata": {
        "colab": {
          "base_uri": "https://localhost:8080/",
          "height": 448
        },
        "id": "cjASFQHrTgUH",
        "outputId": "58fa0c37-3a67-4750-8c21-aec1001cc972"
      },
      "execution_count": 12,
      "outputs": [
        {
          "output_type": "execute_result",
          "data": {
            "text/plain": [
              "[<matplotlib.lines.Line2D at 0x7ab2fab5b1d0>]"
            ]
          },
          "metadata": {},
          "execution_count": 12
        },
        {
          "output_type": "display_data",
          "data": {
            "text/plain": [
              "<Figure size 640x480 with 1 Axes>"
            ],
            "image/png": "[encoded data removed]"
          },
          "metadata": {}
        }
      ]
    },
    {
      "cell_type": "code",
      "source": [
        "plt.plot(temps, layer1_1+layer1_2+layer1_3)"
      ],
      "metadata": {
        "colab": {
          "base_uri": "https://localhost:8080/",
          "height": 452
        },
        "id": "jx5wndQfTuWS",
        "outputId": "dbf6b90d-51bc-45a7-8ec7-68544aef9892"
      },
      "execution_count": 13,
      "outputs": [
        {
          "output_type": "execute_result",
          "data": {
            "text/plain": [
              "[<matplotlib.lines.Line2D at 0x7ab2fabb3310>]"
            ]
          },
          "metadata": {},
          "execution_count": 13
        },
        {
          "output_type": "display_data",
          "data": {
            "text/plain": [
              "<Figure size 640x480 with 1 Axes>"
            ],
            "image/png": "[encoded data removed]"
          },
          "metadata": {}
        }
      ]
    },
    {
      "cell_type": "code",
      "source": [
        "layer2 = layer1_1*.1 + layer1_2*.3 + layer1_3*.4 + 20\n",
        "plt.plot(temps, layer2)"
      ],
      "metadata": {
        "colab": {
          "base_uri": "https://localhost:8080/",
          "height": 450
        },
        "id": "8tALsifzgCih",
        "outputId": "3a9eaa49-f24c-4fd2-b670-5fef2e62398c"
      },
      "execution_count": 14,
      "outputs": [
        {
          "output_type": "execute_result",
          "data": {
            "text/plain": [
              "[<matplotlib.lines.Line2D at 0x7ab2fa9d4b10>]"
            ]
          },
          "metadata": {},
          "execution_count": 14
        },
        {
          "output_type": "display_data",
          "data": {
            "text/plain": [
              "<Figure size 640x480 with 1 Axes>"
            ],
            "image/png": "[encoded data removed]"
          },
          "metadata": {}
        }
      ]
    },
    {
      "cell_type": "code",
      "source": [
        "input = np.array([[80], [90], [100], [-20], [-10]])\n",
        "\n",
        "\n",
        "l1_weights = np.array([[.82, .1]])\n",
        "l1_bias = np.array([[11.99, 10]])\n",
        "l1_output = input @ l1_weights + l1_bias\n",
        "l1_output"
      ],
      "metadata": {
        "colab": {
          "base_uri": "https://localhost:8080/"
        },
        "id": "e_U_9ZXehRr3",
        "outputId": "13cc9c51-ad5b-4a84-8835-39756d8b8745"
      },
      "execution_count": 15,
      "outputs": [
        {
          "output_type": "execute_result",
          "data": {
            "text/plain": [
              "array([[77.59, 18.  ],\n",
              "       [85.79, 19.  ],\n",
              "       [93.99, 20.  ],\n",
              "       [-4.41,  8.  ],\n",
              "       [ 3.79,  9.  ]])"
            ]
          },
          "metadata": {},
          "execution_count": 15
        }
      ]
    },
    {
      "cell_type": "code",
      "source": [
        "l1_activated = np.maximum(l1_output,0)\n",
        "l1_activated"
      ],
      "metadata": {
        "colab": {
          "base_uri": "https://localhost:8080/"
        },
        "id": "qxOBWkHsiRle",
        "outputId": "f5387c81-4f53-4cd2-f891-72c878e03724"
      },
      "execution_count": 16,
      "outputs": [
        {
          "output_type": "execute_result",
          "data": {
            "text/plain": [
              "array([[77.59, 18.  ],\n",
              "       [85.79, 19.  ],\n",
              "       [93.99, 20.  ],\n",
              "       [ 0.  ,  8.  ],\n",
              "       [ 3.79,  9.  ]])"
            ]
          },
          "metadata": {},
          "execution_count": 16
        }
      ]
    },
    {
      "cell_type": "code",
      "source": [
        "l2_weights = np.array([\n",
        "    [.5],\n",
        "    [.2]\n",
        "])\n",
        "\n",
        "l2_bias = np.array([[5]])\n",
        "\n",
        "output = l1_activated @ l2_weights + l2_bias\n",
        "output"
      ],
      "metadata": {
        "colab": {
          "base_uri": "https://localhost:8080/"
        },
        "id": "Ue7FD8nFioIt",
        "outputId": "a8483da6-f978-49fc-c3b6-0dbb24db1eb8"
      },
      "execution_count": 17,
      "outputs": [
        {
          "output_type": "execute_result",
          "data": {
            "text/plain": [
              "array([[47.395],\n",
              "       [51.695],\n",
              "       [55.995],\n",
              "       [ 6.6  ],\n",
              "       [ 8.695]])"
            ]
          },
          "metadata": {},
          "execution_count": 17
        }
      ]
    },
    {
      "cell_type": "code",
      "source": [
        "tmax = np.array([[80], [90], [100], [-20], [-10]])\n",
        "tmax_tomorrow = np.array([[83], [89], [95], [-22], [-9]])"
      ],
      "metadata": {
        "id": "i5IvTUsbjH-d"
      },
      "execution_count": 18,
      "outputs": []
    },
    {
      "cell_type": "code",
      "source": [
        "tmax_tomorrow"
      ],
      "metadata": {
        "colab": {
          "base_uri": "https://localhost:8080/"
        },
        "id": "Jy1G4iddjawL",
        "outputId": "7b0a982e-1dc7-424d-8a0d-bd6c76ec139f"
      },
      "execution_count": 19,
      "outputs": [
        {
          "output_type": "execute_result",
          "data": {
            "text/plain": [
              "array([[ 83],\n",
              "       [ 89],\n",
              "       [ 95],\n",
              "       [-22],\n",
              "       [ -9]])"
            ]
          },
          "metadata": {},
          "execution_count": 19
        }
      ]
    },
    {
      "cell_type": "code",
      "source": [
        "def mse(actual, pred):\n",
        "  return (actual-pred)**2\n",
        "\n",
        "\n",
        "mse(tmax_tomorrow, output)"
      ],
      "metadata": {
        "colab": {
          "base_uri": "https://localhost:8080/"
        },
        "id": "LCz9hEgHjeO2",
        "outputId": "22fa150f-933c-44a1-b479-89b837927d2a"
      },
      "execution_count": 20,
      "outputs": [
        {
          "output_type": "execute_result",
          "data": {
            "text/plain": [
              "array([[1267.716025],\n",
              "       [1391.663025],\n",
              "       [1521.390025],\n",
              "       [ 817.96    ],\n",
              "       [ 313.113025]])"
            ]
          },
          "metadata": {},
          "execution_count": 20
        }
      ]
    },
    {
      "cell_type": "code",
      "source": [
        "def mse_grad(actual, pred):\n",
        "  return (pred - actual)\n",
        "\n",
        "mse_grad(tmax_tomorrow, output)"
      ],
      "metadata": {
        "colab": {
          "base_uri": "https://localhost:8080/"
        },
        "id": "J5M12vNCjtjJ",
        "outputId": "93d46f68-0701-4fa7-f2dd-ca9feb37c700"
      },
      "execution_count": 21,
      "outputs": [
        {
          "output_type": "execute_result",
          "data": {
            "text/plain": [
              "array([[-35.605],\n",
              "       [-37.305],\n",
              "       [-39.005],\n",
              "       [ 28.6  ],\n",
              "       [ 17.695]])"
            ]
          },
          "metadata": {},
          "execution_count": 21
        }
      ]
    },
    {
      "cell_type": "code",
      "source": [
        "output_gradient = mse_grad(tmax_tomorrow, output)\n",
        "\n",
        "l2_w_gradient = l1_activated.T @ output_gradient\n",
        "l2_w_gradient"
      ],
      "metadata": {
        "colab": {
          "base_uri": "https://localhost:8080/"
        },
        "id": "Eph_CfnRkD9q",
        "outputId": "57cc907c-ab0c-4d23-8b93-8f9ca066babf"
      },
      "execution_count": 22,
      "outputs": [
        {
          "output_type": "execute_result",
          "data": {
            "text/plain": [
              "array([[-9562.0038],\n",
              "       [-1741.73  ]])"
            ]
          },
          "metadata": {},
          "execution_count": 22
        }
      ]
    },
    {
      "cell_type": "code",
      "source": [
        "l2_b_gradient = np.mean(output_gradient, axis = 0)\n",
        "l2_b_gradient"
      ],
      "metadata": {
        "colab": {
          "base_uri": "https://localhost:8080/"
        },
        "id": "GW6V_vH_ny8d",
        "outputId": "19d72e04-2c94-45c7-88e5-349ee78eed98"
      },
      "execution_count": 23,
      "outputs": [
        {
          "output_type": "execute_result",
          "data": {
            "text/plain": [
              "array([-13.124])"
            ]
          },
          "metadata": {},
          "execution_count": 23
        }
      ]
    },
    {
      "cell_type": "code",
      "source": [
        "l2_weights"
      ],
      "metadata": {
        "colab": {
          "base_uri": "https://localhost:8080/"
        },
        "id": "hVxPPHt3oFrt",
        "outputId": "ab5871bc-05df-483b-b16f-2bb74432b3aa"
      },
      "execution_count": 24,
      "outputs": [
        {
          "output_type": "execute_result",
          "data": {
            "text/plain": [
              "array([[0.5],\n",
              "       [0.2]])"
            ]
          },
          "metadata": {},
          "execution_count": 24
        }
      ]
    },
    {
      "cell_type": "code",
      "source": [
        "lr = 1e-5\n",
        "\n",
        "l2_bias = l2_bias - l2_b_gradient * lr\n",
        "l2_weights = l2_weights - l2_w_gradient * lr\n",
        "\n",
        "l2_weights"
      ],
      "metadata": {
        "colab": {
          "base_uri": "https://localhost:8080/"
        },
        "id": "OPSdCk4ooHwD",
        "outputId": "7d7cd944-2e2d-4319-941b-3bffde56f8e8"
      },
      "execution_count": 25,
      "outputs": [
        {
          "output_type": "execute_result",
          "data": {
            "text/plain": [
              "array([[0.59562004],\n",
              "       [0.2174173 ]])"
            ]
          },
          "metadata": {},
          "execution_count": 25
        }
      ]
    },
    {
      "cell_type": "code",
      "source": [
        "l1_activated_gradient = output_gradient @ l2_weights.T\n",
        "l1_activated_gradient"
      ],
      "metadata": {
        "colab": {
          "base_uri": "https://localhost:8080/"
        },
        "id": "rsuzW_kPpACa",
        "outputId": "fd12c388-20f0-4d35-c8f3-3f9f308d82c7"
      },
      "execution_count": 26,
      "outputs": [
        {
          "output_type": "execute_result",
          "data": {
            "text/plain": [
              "array([[-21.20705145,  -7.74114297],\n",
              "       [-22.21960552,  -8.11075238],\n",
              "       [-23.23215958,  -8.48036179],\n",
              "       [ 17.03473309,   6.21813478],\n",
              "       [ 10.53949657,   3.84719912]])"
            ]
          },
          "metadata": {},
          "execution_count": 26
        }
      ]
    },
    {
      "cell_type": "code",
      "source": [
        "temps = np.arange(-50,50)\n",
        "activation = np.maximum(0,temps)"
      ],
      "metadata": {
        "id": "h4NwetDNpPPb"
      },
      "execution_count": 27,
      "outputs": []
    },
    {
      "cell_type": "code",
      "source": [
        "# Plot the input temperatures against the derivative of relu (the slope)\n",
        "# np.roll will shift the values to the right one place, so we subtract the previous value\n",
        "plt.plot(temps[1:], activation[1:] - np.roll(activation, 1)[1:])"
      ],
      "metadata": {
        "colab": {
          "base_uri": "https://localhost:8080/",
          "height": 448
        },
        "id": "1wfLZGgOlms9",
        "outputId": "10bc241b-3155-47f3-a55d-3cc6003884d2"
      },
      "execution_count": 37,
      "outputs": [
        {
          "output_type": "execute_result",
          "data": {
            "text/plain": [
              "[<matplotlib.lines.Line2D at 0x7ab2ede4f110>]"
            ]
          },
          "metadata": {},
          "execution_count": 37
        },
        {
          "output_type": "display_data",
          "data": {
            "text/plain": [
              "<Figure size 640x480 with 1 Axes>"
            ],
            "image/png": "[encoded data removed]"
          },
          "metadata": {}
        }
      ]
    },
    {
      "cell_type": "code",
      "source": [
        "l1_output_gradient = l1_activated_gradient * np.heaviside(l1_output, 0)\n",
        "l1_output_gradient"
      ],
      "metadata": {
        "colab": {
          "base_uri": "https://localhost:8080/"
        },
        "id": "kwt39XKuqBUL",
        "outputId": "02dabec1-121f-48b3-ffed-8b1f1e10661e"
      },
      "execution_count": 28,
      "outputs": [
        {
          "output_type": "execute_result",
          "data": {
            "text/plain": [
              "array([[-21.20705145,  -7.74114297],\n",
              "       [-22.21960552,  -8.11075238],\n",
              "       [-23.23215958,  -8.48036179],\n",
              "       [  0.        ,   6.21813478],\n",
              "       [ 10.53949657,   3.84719912]])"
            ]
          },
          "metadata": {},
          "execution_count": 28
        }
      ]
    },
    {
      "cell_type": "code",
      "source": [
        "l1_w_gradient = input.T @ l1_output_gradient\n",
        "l1_b_gradient = np.mean(l1_output_gradient, axis =0)\n",
        "\n",
        "l1_weights -= l1_w_gradient * lr\n",
        "l1_bias -= l1_b_gradient * lr"
      ],
      "metadata": {
        "id": "tUcIOfymqd2G"
      },
      "execution_count": 29,
      "outputs": []
    },
    {
      "cell_type": "code",
      "source": [
        "l1_weights"
      ],
      "metadata": {
        "colab": {
          "base_uri": "https://localhost:8080/"
        },
        "id": "TLkka6BEqz9L",
        "outputId": "69214385-e17e-40d7-8219-e9982d0cfca3"
      },
      "execution_count": 30,
      "outputs": [
        {
          "output_type": "execute_result",
          "data": {
            "text/plain": [
              "array([[0.8812494, 0.1236013]])"
            ]
          },
          "metadata": {},
          "execution_count": 30
        }
      ]
    },
    {
      "cell_type": "markdown",
      "source": [
        "# Backpropagation\n",
        "Here is the algorithm we followed:\n",
        "\n",
        "1. Run the network forward pass, and get the output:\n",
        "2. Compute gradient with respect to the outputs of the network. (the mse_grad function)\n",
        "3. For each layer in the network:\n",
        "* Compute the gradient with respect to the pre-nonlinearity output (if the layer has a nonlinearity).\n",
        "* Compute the gradient with respect to the weights.\n",
        "* Compute the gradient with respect to the biases.\n",
        "* Compute the gradient with respect to the inputs to the layer.\n",
        "\n",
        "4. Update the parameters in the network using gradient descent\n",
        "\n",
        "For convenience, we combined step 4 into step 3. But it's important to note that backpropagation is step 3 above, and gradient descent is step 4. Splitting these steps up makes it easier to use variations of regular gradient descent to update the weights (like Adam or RMSProp).\n",
        "\n",
        "Steps 3 and 4 are usually called the backward pass of a neural network.\n",
        "\n",
        "Backpropagation and gradient descent are the most complicated parts of training neural networks. Intuitively, backpropagation is about reversing the forward pass of the network so that we can figure out how to reduce error. To do this, we pass the loss gradient from layer to layer (applying the chain rule).\n",
        "\n",
        "# Batch Size\n",
        "In the example above, we used a batch size of 5. This means that we did the forward and backward pass using 5 inputs from the training dataset. Larger batch sizes will use more memory, since we need to create larger matrices. But they will also run faster, since we can process more examples at once.\n",
        "\n",
        "Batch size also affects gradient descent. When we process 1 example at a time, we do a backward pass using the gradient of that single example. With a larger batch size, we're averaging the gradient over every example in the batch when we update weights and biases. This means that we may lose some accuracy in the updates when the batch size is too high.\n",
        "\n",
        "When the batch size is the same as the rows in the training data, then the update process is called batch gradient descent (confusing, I know!). Otherwise, it is called stochastic gradient descent. Either way, we still use backpropagation to find the gradients."
      ],
      "metadata": {
        "id": "DA__lBu8l0nH"
      }
    },
    {
      "cell_type": "markdown",
      "source": [
        "# Network implementation"
      ],
      "metadata": {
        "id": "yMaFu4mQr8it"
      }
    },
    {
      "cell_type": "code",
      "source": [
        "from sklearn.preprocessing import StandardScaler\n",
        "PREDICTORS = [\"tmax\", \"tmin\", \"rain\"]\n",
        "TARGET = \"tmax_tomorrow\"\n",
        "\n",
        "# Scale our df so relu works better\n",
        "# All temperature values in the original dataset are over 0, so relu won't do much for several epochs\n",
        "# Scaling will make some of the input data negative\n",
        "\n",
        "scaler = StandardScaler()\n",
        "df[PREDICTORS] = scaler.fit_transform(df[PREDICTORS])\n",
        "\n",
        "split_df = np.split(df, [int(.7 * len(df)), int(.85 * len(df))])\n",
        "(train_x, train_y), (valid_x, valid_y), (test_x, test_y) = [[d[PREDICTORS].to_numpy(), d[[TARGET]].to_numpy()] for d in\n",
        "                                                            split_df]"
      ],
      "metadata": {
        "colab": {
          "base_uri": "https://localhost:8080/"
        },
        "id": "4-3C6EVSr8Cr",
        "outputId": "c11086bb-9d1c-4e54-9815-afec4cc1c07d"
      },
      "execution_count": 31,
      "outputs": [
        {
          "output_type": "stream",
          "name": "stderr",
          "text": [
            "/usr/local/lib/python3.11/dist-packages/numpy/_core/fromnumeric.py:57: FutureWarning: 'DataFrame.swapaxes' is deprecated and will be removed in a future version. Please use 'DataFrame.transpose' instead.\n",
            "  return bound(*args, **kwds)\n"
          ]
        }
      ]
    },
    {
      "cell_type": "markdown",
      "source": [
        "To train our neural network, we need 4 elements:\n",
        "\n",
        "* A way to initialize our parameters (weights and biases for each layer)\n",
        "* A forward pass that computes predictions using the parameters\n",
        "* A loss function that measures the error of our predictions\n",
        "* A backward pass that updates our parameters to reduce the loss\n",
        "\n",
        "To initialize our weight parameters, we can use random initialization. Random initialization helps the gradient descent algorithm descend to a global minimum efficiently (feel free to experiment with other initializations, like 0 or 1 to see what happens).\n",
        "\n",
        "It's common to initialize the bias to be 1 or 0.\n",
        "\n",
        "We'll shrink the initial parameter values so we don't end up with predictions that are too large (this can cause gradient descent to take steps that are too large)."
      ],
      "metadata": {
        "id": "GEgYYrbdm5LE"
      }
    },
    {
      "cell_type": "code",
      "source": [
        "def init_layers(inputs):\n",
        "  layers = []\n",
        "  for i in range(1, len(inputs)):\n",
        "    layers.append([\n",
        "        np.random.rand(inputs[i-1], inputs[i]) / 5 - .1,\n",
        "        np.ones((1, inputs[i]))\n",
        "    ])\n",
        "\n",
        "  return layers\n",
        "\n",
        "layer_config = [3, 10, 10, 1]\n",
        "\n",
        "layers = init_layers(layer_config)\n",
        "\n",
        "layers"
      ],
      "metadata": {
        "colab": {
          "base_uri": "https://localhost:8080/"
        },
        "id": "_FVf8IhdsI54",
        "outputId": "36004bc2-2c8f-45eb-931b-ce0c83bea7de"
      },
      "execution_count": 32,
      "outputs": [
        {
          "output_type": "execute_result",
          "data": {
            "text/plain": [
              "[[array([[ 0.06956767,  0.07384275, -0.06667276,  0.01228157, -0.00834601,\n",
              "          -0.07263752, -0.05610789,  0.00224797,  0.03601892, -0.01542342],\n",
              "         [-0.08029398, -0.00922975, -0.07759154,  0.02254565, -0.09462168,\n",
              "          -0.06558127, -0.04906656, -0.07549119, -0.0413105 ,  0.08183799],\n",
              "         [-0.0594512 ,  0.00385184, -0.06638916,  0.01875019,  0.01127653,\n",
              "          -0.07791091, -0.01180712, -0.044723  , -0.00281951,  0.05098647]]),\n",
              "  array([[1., 1., 1., 1., 1., 1., 1., 1., 1., 1.]])],\n",
              " [array([[-3.16093173e-02,  4.87326030e-02, -7.22437054e-02,\n",
              "           4.07118701e-02, -2.36705442e-03,  8.50648216e-02,\n",
              "           5.74274191e-02, -6.48315128e-02,  9.88353518e-02,\n",
              "           1.67634590e-02],\n",
              "         [ 2.58635844e-02,  7.08529304e-03,  7.90454558e-02,\n",
              "           2.01609249e-02, -1.14599459e-02,  7.58100355e-02,\n",
              "          -9.01763909e-02, -3.46782443e-04,  8.88666191e-02,\n",
              "          -8.02185326e-02],\n",
              "         [ 9.14580146e-02,  5.67562953e-02, -7.11981580e-02,\n",
              "           9.69151570e-02,  9.34585733e-02,  3.59729481e-02,\n",
              "           5.07896652e-02,  8.93313439e-02, -3.74144905e-02,\n",
              "           6.96979038e-02],\n",
              "         [-9.48515111e-02, -6.90467723e-02, -7.78058825e-02,\n",
              "          -8.15101231e-02, -8.72650837e-02, -5.67850946e-02,\n",
              "          -6.21410466e-02,  4.95139558e-02,  6.86666489e-02,\n",
              "           2.09588679e-03],\n",
              "         [ 4.88920689e-02,  1.74938110e-02, -8.85804574e-02,\n",
              "          -5.34596201e-02, -3.54255580e-02, -8.18675978e-03,\n",
              "           6.99378075e-03, -5.38601989e-02,  1.64507153e-02,\n",
              "          -4.11805672e-02],\n",
              "         [ 6.55883306e-02,  8.57208902e-02, -9.08962308e-02,\n",
              "           5.40641265e-02,  1.57449650e-02, -3.10410390e-02,\n",
              "          -3.50579393e-05, -8.33766173e-03,  1.91056230e-03,\n",
              "          -6.68727324e-02],\n",
              "         [-1.71691848e-02, -7.98112784e-02, -2.95665700e-02,\n",
              "          -8.92330202e-03, -4.85017832e-02, -9.31682694e-04,\n",
              "          -1.60910162e-02, -5.43461957e-02,  4.61397591e-02,\n",
              "          -5.03883976e-02],\n",
              "         [ 9.08082528e-02,  4.51473554e-02,  6.31626174e-02,\n",
              "           8.17714498e-02, -9.58942597e-02, -2.47810876e-02,\n",
              "           2.13993491e-03, -2.49488052e-02,  8.76290665e-02,\n",
              "          -8.27621136e-02],\n",
              "         [ 8.84841118e-02,  9.12711073e-02, -6.86477320e-02,\n",
              "          -2.39347885e-02, -8.12904419e-02, -8.44646018e-02,\n",
              "          -1.06236055e-02,  2.38851198e-02,  1.44255311e-02,\n",
              "           1.56385925e-02],\n",
              "         [-5.08653863e-02, -9.82922841e-02, -5.03805023e-02,\n",
              "          -2.47041836e-02, -8.93968682e-02,  7.67242312e-02,\n",
              "          -6.20364742e-02, -2.57452642e-02,  4.92614409e-02,\n",
              "           9.50759001e-02]]),\n",
              "  array([[1., 1., 1., 1., 1., 1., 1., 1., 1., 1.]])],\n",
              " [array([[ 0.00325135],\n",
              "         [-0.09638768],\n",
              "         [ 0.05695886],\n",
              "         [ 0.08751654],\n",
              "         [ 0.06916685],\n",
              "         [ 0.08646589],\n",
              "         [ 0.04174808],\n",
              "         [-0.0059674 ],\n",
              "         [ 0.06885245],\n",
              "         [-0.09490416]]),\n",
              "  array([[1.]])]]"
            ]
          },
          "metadata": {},
          "execution_count": 32
        }
      ]
    },
    {
      "cell_type": "code",
      "source": [
        "def forward(batch, layers):\n",
        "  hidden = [batch.copy()]\n",
        "\n",
        "  for i in range(len(layers)):\n",
        "    batch = np.matmul(batch, layers[i][0]) + layers[i][1]\n",
        "    if i<len(layers) -1:\n",
        "      batch = np.maximum(batch, 0)\n",
        "\n",
        "    hidden.append(batch.copy())\n",
        "  return batch, hidden\n",
        "\n",
        "\n",
        "def mse(actual, pred):\n",
        "  return (actual - pred) ** 2\n",
        "\n",
        "def mse_grad(actual, pred):\n",
        "  return (pred - actual)\n",
        "\n",
        "\n",
        "def backward(layers, hidden, grad, lr):\n",
        "  for i in range(len(layers)-1, -1, -1):\n",
        "    if i!= len(layers)-1:\n",
        "      grad = np.multiply(grad, np.heaviside(hidden[i+1], 0))\n",
        "\n",
        "    w_grad = hidden[i].T @ grad\n",
        "    b_grad = np.mean(grad, axis=0)\n",
        "\n",
        "    layers[i][0] -= w_grad * lr\n",
        "    layers[i][1] -= b_grad * lr\n",
        "\n",
        "    grad = grad @ layers[i][0].T\n",
        "\n",
        "    return layers"
      ],
      "metadata": {
        "id": "k9XQXoa7s29L"
      },
      "execution_count": 40,
      "outputs": []
    },
    {
      "cell_type": "code",
      "source": [
        "from statistics import mean\n",
        "\n",
        "lr = 1e-3\n",
        "epochs=100\n",
        "batch_size = 8\n",
        "\n",
        "layers = init_layers(layer_config)\n",
        "\n",
        "for epoch in range(epochs):\n",
        "    epoch_loss = []\n",
        "\n",
        "    for i in range(0, train_x.shape[0], batch_size):\n",
        "        x_batch = train_x[i:(i+batch_size)]\n",
        "        y_batch = train_y[i:(i+batch_size)]\n",
        "        pred, hidden = forward(x_batch, layers)\n",
        "\n",
        "        loss = mse_grad(y_batch, pred)\n",
        "        epoch_loss.append(np.mean(loss ** 2))\n",
        "\n",
        "        layers = backward(layers, hidden, loss, lr)\n",
        "\n",
        "\n",
        "    valid_preds, _ = forward(valid_x, layers)\n",
        "\n",
        "    print(f\"Epoch: {epoch} Train MSE: {mean(epoch_loss)} Valid MSE: {np.mean(mse(valid_preds,valid_y))}\")\n"
      ],
      "metadata": {
        "colab": {
          "base_uri": "https://localhost:8080/"
        },
        "id": "9m23s5j9fgix",
        "outputId": "e37bf594-49d4-4a95-e3da-6efde2655350"
      },
      "execution_count": 48,
      "outputs": [
        {
          "output_type": "stream",
          "name": "stdout",
          "text": [
            "Epoch: 0 Train MSE: 86.45601076098926 Valid MSE: 66.01874533892969\n",
            "Epoch: 1 Train MSE: 63.15059176690754 Valid MSE: 64.7049892997832\n",
            "Epoch: 2 Train MSE: 61.99403376735055 Valid MSE: 63.42969470648388\n",
            "Epoch: 3 Train MSE: 60.8709647501264 Valid MSE: 62.19174034937422\n",
            "Epoch: 4 Train MSE: 59.78041302920387 Valid MSE: 60.99003762233927\n",
            "Epoch: 5 Train MSE: 58.72143511999426 Valid MSE: 59.82352957587495\n",
            "Epoch: 6 Train MSE: 57.69311492081191 Valid MSE: 58.69118999764483\n",
            "Epoch: 7 Train MSE: 56.69456291809273 Valid MSE: 57.59202251972558\n",
            "Epoch: 8 Train MSE: 55.72491541468105 Valid MSE: 56.52505975176849\n",
            "Epoch: 9 Train MSE: 54.78333378051523 Valid MSE: 55.489362439323\n",
            "Epoch: 10 Train MSE: 53.86900372506183 Valid MSE: 54.484018646593654\n",
            "Epoch: 11 Train MSE: 52.9811345908674 Valid MSE: 53.508142962920424\n",
            "Epoch: 12 Train MSE: 52.118958667614564 Valid MSE: 52.56087573229425\n",
            "Epoch: 13 Train MSE: 51.28173052608762 Valid MSE: 51.64138230523911\n",
            "Epoch: 14 Train MSE: 50.46872637146959 Valid MSE: 50.74885231241205\n",
            "Epoch: 15 Train MSE: 49.67924341540969 Valid MSE: 49.882498959289535\n",
            "Epoch: 16 Train MSE: 48.91259926631642 Valid MSE: 49.041558341330116\n",
            "Epoch: 17 Train MSE: 48.16813133734738 Valid MSE: 48.225288779017355\n",
            "Epoch: 18 Train MSE: 47.445196271581885 Valid MSE: 47.432970172207035\n",
            "Epoch: 19 Train MSE: 46.7431693838781 Valid MSE: 46.66390337321812\n",
            "Epoch: 20 Train MSE: 46.06144411892997 Valid MSE: 45.91740957812367\n",
            "Epoch: 21 Train MSE: 45.399431525054155 Valid MSE: 45.19282973571291\n",
            "Epoch: 22 Train MSE: 44.75655974325009 Valid MSE: 44.489523973612435\n",
            "Epoch: 23 Train MSE: 44.13227351109009 Valid MSE: 43.80687104106816\n",
            "Epoch: 24 Train MSE: 43.526033681009054 Valid MSE: 43.14426776790402\n",
            "Epoch: 25 Train MSE: 42.93731675257557 Valid MSE: 42.50112853918868\n",
            "Epoch: 26 Train MSE: 42.36561441833905 Valid MSE: 41.876884785154225\n",
            "Epoch: 27 Train MSE: 41.81043312285851 Valid MSE: 41.270984485923606\n",
            "Epoch: 28 Train MSE: 41.2712936345304 Valid MSE: 40.682891690617545\n",
            "Epoch: 29 Train MSE: 40.74773062984429 Valid MSE: 40.112086050423464\n",
            "Epoch: 30 Train MSE: 40.23929228970548 Valid MSE: 39.55806236522169\n",
            "Epoch: 31 Train MSE: 39.745539907474246 Valid MSE: 39.02033014337386\n",
            "Epoch: 32 Train MSE: 39.266047508381824 Valid MSE: 38.49841317429372\n",
            "Epoch: 33 Train MSE: 38.800401479992736 Valid MSE: 37.99184911342772\n",
            "Epoch: 34 Train MSE: 38.34820021339315 Valid MSE: 37.500189079285825\n",
            "Epoch: 35 Train MSE: 37.909053754793554 Valid MSE: 37.022997262172346\n",
            "Epoch: 36 Train MSE: 37.482583467243664 Valid MSE: 36.55985054427869\n",
            "Epoch: 37 Train MSE: 37.068421702166326 Valid MSE: 36.110338130805644\n",
            "Epoch: 38 Train MSE: 36.66621148042479 Valid MSE: 35.67406119179769\n",
            "Epoch: 39 Train MSE: 36.27560618264725 Valid MSE: 35.25063251437667\n",
            "Epoch: 40 Train MSE: 35.896269248539774 Valid MSE: 34.83967616507426\n",
            "Epoch: 41 Train MSE: 35.5278738849265 Valid MSE: 34.44082716196883\n",
            "Epoch: 42 Train MSE: 35.1701027822642 Valid MSE: 34.05373115634304\n",
            "Epoch: 43 Train MSE: 34.8226478393848 Valid MSE: 33.67804412358582\n",
            "Epoch: 44 Train MSE: 34.485209896227474 Valid MSE: 33.31343206306966\n",
            "Epoch: 45 Train MSE: 34.15749847432821 Valid MSE: 32.959570706743776\n",
            "Epoch: 46 Train MSE: 33.83923152484151 Valid MSE: 32.61614523618929\n",
            "Epoch: 47 Train MSE: 33.530135183876 Valid MSE: 32.28285000789095\n",
            "Epoch: 48 Train MSE: 33.22994353493136 Valid MSE: 31.959388286487627\n",
            "Epoch: 49 Train MSE: 32.938398378230445 Valid MSE: 31.645471985768648\n",
            "Epoch: 50 Train MSE: 32.65524900674689 Valid MSE: 31.34082141719297\n",
            "Epoch: 51 Train MSE: 32.380251988733214 Valid MSE: 31.04516504571056\n",
            "Epoch: 52 Train MSE: 32.113170956561234 Valid MSE: 30.75823925267653\n",
            "Epoch: 53 Train MSE: 31.853776401691437 Valid MSE: 30.479788105649778\n",
            "Epoch: 54 Train MSE: 31.60184547559337 Valid MSE: 30.209563134878177\n",
            "Epoch: 55 Train MSE: 31.357161796444373 Valid MSE: 29.947323116275\n",
            "Epoch: 56 Train MSE: 31.1195152614388 Valid MSE: 29.692833860698652\n",
            "Epoch: 57 Train MSE: 30.888701864545226 Valid MSE: 29.445868009353127\n",
            "Epoch: 58 Train MSE: 30.66452351955309 Valid MSE: 29.206204835130237\n",
            "Epoch: 59 Train MSE: 30.446787888255542 Valid MSE: 28.97363004972292\n",
            "Epoch: 60 Train MSE: 30.235308213619295 Valid MSE: 28.747935616340534\n",
            "Epoch: 61 Train MSE: 30.029903157796788 Valid MSE: 28.528919567864353\n",
            "Epoch: 62 Train MSE: 29.830396644840032 Valid MSE: 28.31638583028519\n",
            "Epoch: 63 Train MSE: 29.636617707979763 Valid MSE: 28.110144051269558\n",
            "Epoch: 64 Train MSE: 29.44840034133732 Valid MSE: 27.910009433706204\n",
            "Epoch: 65 Train MSE: 29.265583355940695 Valid MSE: 27.715802574087324\n",
            "Epoch: 66 Train MSE: 29.08801023991971 Valid MSE: 27.527349305585005\n",
            "Epoch: 67 Train MSE: 28.915529022758953 Valid MSE: 27.34448054568645\n",
            "Epoch: 68 Train MSE: 28.74799214349105 Valid MSE: 27.167032148255313\n",
            "Epoch: 69 Train MSE: 28.585256322715438 Valid MSE: 26.994844759890963\n",
            "Epoch: 70 Train MSE: 28.427182438331972 Valid MSE: 26.82776368046062\n",
            "Epoch: 71 Train MSE: 28.27363540488126 Valid MSE: 26.665638727683834\n",
            "Epoch: 72 Train MSE: 28.12448405638739 Valid MSE: 26.508324105650466\n",
            "Epoch: 73 Train MSE: 27.979601032600943 Valid MSE: 26.355678277159566\n",
            "Epoch: 74 Train MSE: 27.838862668543953 Valid MSE: 26.207563839766728\n",
            "Epoch: 75 Train MSE: 27.7021488872609 Valid MSE: 26.06384740543367\n",
            "Epoch: 76 Train MSE: 27.56934309568256 Valid MSE: 25.924399483673778\n",
            "Epoch: 77 Train MSE: 27.44033208351243 Valid MSE: 25.789094368093696\n",
            "Epoch: 78 Train MSE: 27.31500592504804 Valid MSE: 25.65781002623162\n",
            "Epoch: 79 Train MSE: 27.193257883851942 Valid MSE: 25.53042799259667\n",
            "Epoch: 80 Train MSE: 27.07498432018962 Valid MSE: 25.40683326481626\n",
            "Epoch: 81 Train MSE: 26.960084601154072 Valid MSE: 25.286914202801388\n",
            "Epoch: 82 Train MSE: 26.84846101339896 Valid MSE: 25.170562430842825\n",
            "Epoch: 83 Train MSE: 26.740018678404798 Valid MSE: 25.057672742551347\n",
            "Epoch: 84 Train MSE: 26.63466547020463 Valid MSE: 24.948143008561804\n",
            "Epoch: 85 Train MSE: 26.53231193549756 Valid MSE: 24.84187408691869\n",
            "Epoch: 86 Train MSE: 26.432871216081118 Valid MSE: 24.738769736067024\n",
            "Epoch: 87 Train MSE: 26.33625897353509 Valid MSE: 24.638736530370863\n",
            "Epoch: 88 Train MSE: 26.242393316091206 Valid MSE: 24.54168377808905\n",
            "Epoch: 89 Train MSE: 26.15119472762589 Valid MSE: 24.447523441733374\n",
            "Epoch: 90 Train MSE: 26.06258599871343 Valid MSE: 24.356170060742706\n",
            "Epoch: 91 Train MSE: 25.97649215968082 Valid MSE: 24.26754067640472\n",
            "Epoch: 92 Train MSE: 25.892840415605587 Valid MSE: 24.181554758959734\n",
            "Epoch: 93 Train MSE: 25.811560083200064 Valid MSE: 24.09813413682385\n",
            "Epoch: 94 Train MSE: 25.732582529528056 Valid MSE: 24.017202927869608\n",
            "Epoch: 95 Train MSE: 25.655841112499875 Valid MSE: 23.938687472704277\n",
            "Epoch: 96 Train MSE: 25.58127112309469 Valid MSE: 23.862516269888363\n",
            "Epoch: 97 Train MSE: 25.50880972925998 Valid MSE: 23.788619913036843\n",
            "Epoch: 98 Train MSE: 25.438395921439007 Valid MSE: 23.716931029749833\n",
            "Epoch: 99 Train MSE: 25.369970459679767 Valid MSE: 23.647384222318685\n"
          ]
        }
      ]
    },
    {
      "cell_type": "code",
      "source": [
        "layers[0]"
      ],
      "metadata": {
        "colab": {
          "base_uri": "https://localhost:8080/"
        },
        "id": "UyHOUebFlBX8",
        "outputId": "a54f33a7-6e98-4c54-c225-803ba9518477"
      },
      "execution_count": 49,
      "outputs": [
        {
          "output_type": "execute_result",
          "data": {
            "text/plain": [
              "[array([[-0.00578618,  0.07551393, -0.04285077,  0.00530034, -0.06632035,\n",
              "          0.03510063,  0.04092319,  0.0229408 ,  0.07933471, -0.00663509],\n",
              "        [-0.08602536,  0.05340578,  0.03990243, -0.04218535, -0.06993744,\n",
              "         -0.0034107 , -0.08261942, -0.06320253,  0.06351536, -0.07230982],\n",
              "        [-0.08171995, -0.03557625,  0.00052467,  0.07187896,  0.01343877,\n",
              "         -0.03709419, -0.04189575,  0.01804627,  0.05125027, -0.09149413]]),\n",
              " array([[1., 1., 1., 1., 1., 1., 1., 1., 1., 1.]])]"
            ]
          },
          "metadata": {},
          "execution_count": 49
        }
      ]
    },
    {
      "cell_type": "code",
      "source": [
        "pred, _ = forward(test_x, layers)\n",
        "np.mean(mse(test_y, pred))"
      ],
      "metadata": {
        "colab": {
          "base_uri": "https://localhost:8080/"
        },
        "id": "nmP5Rq-7lD4Q",
        "outputId": "d6b0e697-bc34-461b-ac40-1d6987a48fcb"
      },
      "execution_count": 50,
      "outputs": [
        {
          "output_type": "execute_result",
          "data": {
            "text/plain": [
              "np.float64(26.23376412764093)"
            ]
          },
          "metadata": {},
          "execution_count": 50
        }
      ]
    }
  ]
}